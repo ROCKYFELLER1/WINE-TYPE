{
 "cells": [
  {
   "cell_type": "code",
   "execution_count": 1,
   "id": "82d82d51",
   "metadata": {},
   "outputs": [],
   "source": [
    "import pandas as pd\n",
    "import numpy as np\n",
    "import seaborn as sb\n",
    "import matplotlib.pyplot as plt\n",
    "from sklearn.model_selection import train_test_split\n",
    "from sklearn.linear_model import LogisticRegression as LR\n",
    "from sklearn import metrics\n",
    "from sklearn.naive_bayes import GaussianNB"
   ]
  },
  {
   "cell_type": "code",
   "execution_count": 2,
   "id": "e5375fd5",
   "metadata": {},
   "outputs": [
    {
     "data": {
      "text/html": [
       "<div>\n",
       "<style scoped>\n",
       "    .dataframe tbody tr th:only-of-type {\n",
       "        vertical-align: middle;\n",
       "    }\n",
       "\n",
       "    .dataframe tbody tr th {\n",
       "        vertical-align: top;\n",
       "    }\n",
       "\n",
       "    .dataframe thead th {\n",
       "        text-align: right;\n",
       "    }\n",
       "</style>\n",
       "<table border=\"1\" class=\"dataframe\">\n",
       "  <thead>\n",
       "    <tr style=\"text-align: right;\">\n",
       "      <th></th>\n",
       "      <th>Unnamed: 0</th>\n",
       "      <th>fixed acidity</th>\n",
       "      <th>volatile acidity</th>\n",
       "      <th>citric acid</th>\n",
       "      <th>residual sugar</th>\n",
       "      <th>chlorides</th>\n",
       "      <th>free sulfur dioxide</th>\n",
       "      <th>total sulfur dioxide</th>\n",
       "      <th>density</th>\n",
       "      <th>pH</th>\n",
       "      <th>sulphates</th>\n",
       "      <th>alcohol</th>\n",
       "      <th>quality</th>\n",
       "      <th>Type</th>\n",
       "    </tr>\n",
       "  </thead>\n",
       "  <tbody>\n",
       "    <tr>\n",
       "      <th>0</th>\n",
       "      <td>2732</td>\n",
       "      <td>7.4</td>\n",
       "      <td>0.170</td>\n",
       "      <td>0.29</td>\n",
       "      <td>1.4</td>\n",
       "      <td>0.047</td>\n",
       "      <td>23.0</td>\n",
       "      <td>107.0</td>\n",
       "      <td>0.99390</td>\n",
       "      <td>3.52</td>\n",
       "      <td>0.65</td>\n",
       "      <td>10.4</td>\n",
       "      <td>6</td>\n",
       "      <td>White Wine</td>\n",
       "    </tr>\n",
       "    <tr>\n",
       "      <th>1</th>\n",
       "      <td>2607</td>\n",
       "      <td>5.3</td>\n",
       "      <td>0.310</td>\n",
       "      <td>0.38</td>\n",
       "      <td>10.5</td>\n",
       "      <td>0.031</td>\n",
       "      <td>53.0</td>\n",
       "      <td>140.0</td>\n",
       "      <td>0.99321</td>\n",
       "      <td>3.34</td>\n",
       "      <td>0.46</td>\n",
       "      <td>11.7</td>\n",
       "      <td>6</td>\n",
       "      <td>White Wine</td>\n",
       "    </tr>\n",
       "    <tr>\n",
       "      <th>2</th>\n",
       "      <td>1653</td>\n",
       "      <td>4.7</td>\n",
       "      <td>0.145</td>\n",
       "      <td>0.29</td>\n",
       "      <td>1.0</td>\n",
       "      <td>0.042</td>\n",
       "      <td>35.0</td>\n",
       "      <td>90.0</td>\n",
       "      <td>0.99080</td>\n",
       "      <td>3.76</td>\n",
       "      <td>0.49</td>\n",
       "      <td>11.3</td>\n",
       "      <td>6</td>\n",
       "      <td>White Wine</td>\n",
       "    </tr>\n",
       "    <tr>\n",
       "      <th>3</th>\n",
       "      <td>3264</td>\n",
       "      <td>6.9</td>\n",
       "      <td>0.260</td>\n",
       "      <td>0.29</td>\n",
       "      <td>4.2</td>\n",
       "      <td>0.043</td>\n",
       "      <td>33.0</td>\n",
       "      <td>114.0</td>\n",
       "      <td>0.99020</td>\n",
       "      <td>3.16</td>\n",
       "      <td>0.31</td>\n",
       "      <td>12.5</td>\n",
       "      <td>6</td>\n",
       "      <td>White Wine</td>\n",
       "    </tr>\n",
       "    <tr>\n",
       "      <th>4</th>\n",
       "      <td>4931</td>\n",
       "      <td>6.4</td>\n",
       "      <td>0.450</td>\n",
       "      <td>0.07</td>\n",
       "      <td>1.1</td>\n",
       "      <td>0.030</td>\n",
       "      <td>10.0</td>\n",
       "      <td>131.0</td>\n",
       "      <td>0.99050</td>\n",
       "      <td>2.97</td>\n",
       "      <td>0.28</td>\n",
       "      <td>10.8</td>\n",
       "      <td>5</td>\n",
       "      <td>White Wine</td>\n",
       "    </tr>\n",
       "    <tr>\n",
       "      <th>...</th>\n",
       "      <td>...</td>\n",
       "      <td>...</td>\n",
       "      <td>...</td>\n",
       "      <td>...</td>\n",
       "      <td>...</td>\n",
       "      <td>...</td>\n",
       "      <td>...</td>\n",
       "      <td>...</td>\n",
       "      <td>...</td>\n",
       "      <td>...</td>\n",
       "      <td>...</td>\n",
       "      <td>...</td>\n",
       "      <td>...</td>\n",
       "      <td>...</td>\n",
       "    </tr>\n",
       "    <tr>\n",
       "      <th>32480</th>\n",
       "      <td>2838</td>\n",
       "      <td>5.0</td>\n",
       "      <td>0.255</td>\n",
       "      <td>0.22</td>\n",
       "      <td>2.7</td>\n",
       "      <td>0.043</td>\n",
       "      <td>46.0</td>\n",
       "      <td>153.0</td>\n",
       "      <td>0.99238</td>\n",
       "      <td>3.75</td>\n",
       "      <td>0.76</td>\n",
       "      <td>11.3</td>\n",
       "      <td>6</td>\n",
       "      <td>White Wine</td>\n",
       "    </tr>\n",
       "    <tr>\n",
       "      <th>32481</th>\n",
       "      <td>6414</td>\n",
       "      <td>6.6</td>\n",
       "      <td>0.360</td>\n",
       "      <td>0.52</td>\n",
       "      <td>11.3</td>\n",
       "      <td>0.046</td>\n",
       "      <td>8.0</td>\n",
       "      <td>110.0</td>\n",
       "      <td>0.99660</td>\n",
       "      <td>3.07</td>\n",
       "      <td>0.46</td>\n",
       "      <td>9.4</td>\n",
       "      <td>5</td>\n",
       "      <td>White Wine</td>\n",
       "    </tr>\n",
       "    <tr>\n",
       "      <th>32482</th>\n",
       "      <td>1126</td>\n",
       "      <td>6.3</td>\n",
       "      <td>0.200</td>\n",
       "      <td>0.24</td>\n",
       "      <td>1.7</td>\n",
       "      <td>0.052</td>\n",
       "      <td>36.0</td>\n",
       "      <td>135.0</td>\n",
       "      <td>0.99374</td>\n",
       "      <td>3.80</td>\n",
       "      <td>0.66</td>\n",
       "      <td>10.8</td>\n",
       "      <td>6</td>\n",
       "      <td>White Wine</td>\n",
       "    </tr>\n",
       "    <tr>\n",
       "      <th>32483</th>\n",
       "      <td>2924</td>\n",
       "      <td>6.2</td>\n",
       "      <td>0.200</td>\n",
       "      <td>0.33</td>\n",
       "      <td>5.4</td>\n",
       "      <td>0.028</td>\n",
       "      <td>21.0</td>\n",
       "      <td>75.0</td>\n",
       "      <td>0.99012</td>\n",
       "      <td>3.36</td>\n",
       "      <td>0.41</td>\n",
       "      <td>13.5</td>\n",
       "      <td>7</td>\n",
       "      <td>White Wine</td>\n",
       "    </tr>\n",
       "    <tr>\n",
       "      <th>32484</th>\n",
       "      <td>5462</td>\n",
       "      <td>8.1</td>\n",
       "      <td>0.280</td>\n",
       "      <td>0.46</td>\n",
       "      <td>15.4</td>\n",
       "      <td>0.059</td>\n",
       "      <td>32.0</td>\n",
       "      <td>177.0</td>\n",
       "      <td>1.00040</td>\n",
       "      <td>3.27</td>\n",
       "      <td>0.58</td>\n",
       "      <td>9.0</td>\n",
       "      <td>4</td>\n",
       "      <td>White Wine</td>\n",
       "    </tr>\n",
       "  </tbody>\n",
       "</table>\n",
       "<p>32485 rows × 14 columns</p>\n",
       "</div>"
      ],
      "text/plain": [
       "       Unnamed: 0  fixed acidity  volatile acidity  citric acid  \\\n",
       "0            2732            7.4             0.170         0.29   \n",
       "1            2607            5.3             0.310         0.38   \n",
       "2            1653            4.7             0.145         0.29   \n",
       "3            3264            6.9             0.260         0.29   \n",
       "4            4931            6.4             0.450         0.07   \n",
       "...           ...            ...               ...          ...   \n",
       "32480        2838            5.0             0.255         0.22   \n",
       "32481        6414            6.6             0.360         0.52   \n",
       "32482        1126            6.3             0.200         0.24   \n",
       "32483        2924            6.2             0.200         0.33   \n",
       "32484        5462            8.1             0.280         0.46   \n",
       "\n",
       "       residual sugar  chlorides  free sulfur dioxide  total sulfur dioxide  \\\n",
       "0                 1.4      0.047                 23.0                 107.0   \n",
       "1                10.5      0.031                 53.0                 140.0   \n",
       "2                 1.0      0.042                 35.0                  90.0   \n",
       "3                 4.2      0.043                 33.0                 114.0   \n",
       "4                 1.1      0.030                 10.0                 131.0   \n",
       "...               ...        ...                  ...                   ...   \n",
       "32480             2.7      0.043                 46.0                 153.0   \n",
       "32481            11.3      0.046                  8.0                 110.0   \n",
       "32482             1.7      0.052                 36.0                 135.0   \n",
       "32483             5.4      0.028                 21.0                  75.0   \n",
       "32484            15.4      0.059                 32.0                 177.0   \n",
       "\n",
       "       density    pH  sulphates  alcohol  quality        Type  \n",
       "0      0.99390  3.52       0.65     10.4        6  White Wine  \n",
       "1      0.99321  3.34       0.46     11.7        6  White Wine  \n",
       "2      0.99080  3.76       0.49     11.3        6  White Wine  \n",
       "3      0.99020  3.16       0.31     12.5        6  White Wine  \n",
       "4      0.99050  2.97       0.28     10.8        5  White Wine  \n",
       "...        ...   ...        ...      ...      ...         ...  \n",
       "32480  0.99238  3.75       0.76     11.3        6  White Wine  \n",
       "32481  0.99660  3.07       0.46      9.4        5  White Wine  \n",
       "32482  0.99374  3.80       0.66     10.8        6  White Wine  \n",
       "32483  0.99012  3.36       0.41     13.5        7  White Wine  \n",
       "32484  1.00040  3.27       0.58      9.0        4  White Wine  \n",
       "\n",
       "[32485 rows x 14 columns]"
      ]
     },
     "execution_count": 2,
     "metadata": {},
     "output_type": "execute_result"
    }
   ],
   "source": [
    "df_data = pd.read_csv('C:/datasets/WineQuality.csv')\n",
    "df_data"
   ]
  },
  {
   "cell_type": "code",
   "execution_count": 24,
   "id": "dac95ed5",
   "metadata": {},
   "outputs": [
    {
     "name": "stdout",
     "output_type": "stream",
     "text": [
      "<class 'pandas.core.frame.DataFrame'>\n",
      "RangeIndex: 6449 entries, 0 to 6448\n",
      "Data columns (total 14 columns):\n",
      " #   Column                Non-Null Count  Dtype  \n",
      "---  ------                --------------  -----  \n",
      " 0   Unnamed: 0            6449 non-null   int64  \n",
      " 1   fixed acidity         6449 non-null   float64\n",
      " 2   volatile acidity      6449 non-null   float64\n",
      " 3   citric acid           6449 non-null   float64\n",
      " 4   residual sugar        6449 non-null   float64\n",
      " 5   chlorides             6449 non-null   float64\n",
      " 6   free sulfur dioxide   6449 non-null   float64\n",
      " 7   total sulfur dioxide  6449 non-null   float64\n",
      " 8   density               6449 non-null   float64\n",
      " 9   pH                    6449 non-null   float64\n",
      " 10  sulphates             6449 non-null   float64\n",
      " 11  alcohol               6449 non-null   float64\n",
      " 12  quality               6449 non-null   int64  \n",
      " 13  Type                  6449 non-null   object \n",
      "dtypes: float64(11), int64(2), object(1)\n",
      "memory usage: 705.5+ KB\n"
     ]
    }
   ],
   "source": [
    "df.info()"
   ]
  },
  {
   "cell_type": "code",
   "execution_count": 3,
   "id": "64d47490",
   "metadata": {},
   "outputs": [
    {
     "name": "stdout",
     "output_type": "stream",
     "text": [
      "Duplicate in dataset:  0\n"
     ]
    }
   ],
   "source": [
    "df = df_data.copy()\n",
    "df = df.drop_duplicates(keep = 'first')\n",
    "df.reset_index(drop =True, inplace = True)\n",
    "print( 'Duplicate in dataset: ', df.duplicated().sum())"
   ]
  },
  {
   "cell_type": "code",
   "execution_count": 4,
   "id": "66f25ad1",
   "metadata": {},
   "outputs": [
    {
     "data": {
      "text/plain": [
       "6449"
      ]
     },
     "execution_count": 4,
     "metadata": {},
     "output_type": "execute_result"
    }
   ],
   "source": [
    "len(df)"
   ]
  },
  {
   "cell_type": "code",
   "execution_count": 5,
   "id": "b6fb8dd7",
   "metadata": {},
   "outputs": [],
   "source": [
    "# Converting a dataframe into arrays\n",
    "\n",
    "dfArr = df.values"
   ]
  },
  {
   "cell_type": "code",
   "execution_count": 6,
   "id": "2def4741",
   "metadata": {},
   "outputs": [],
   "source": [
    "#Split data into X and Y, where X = input features and Y = Target features\n",
    "\n",
    "X = dfArr[:,:-1]\n",
    "Y = dfArr[:, -1]"
   ]
  },
  {
   "cell_type": "code",
   "execution_count": 7,
   "id": "00c28232",
   "metadata": {},
   "outputs": [],
   "source": [
    "# Split X and Y into train test sets\n",
    "\n",
    "# Use the sklearn library to split the data\n",
    "\n",
    "X_train, X_test, Y_train, Y_test = train_test_split(X,Y, test_size = 0.2)"
   ]
  },
  {
   "cell_type": "code",
   "execution_count": 8,
   "id": "78874746",
   "metadata": {},
   "outputs": [
    {
     "data": {
      "text/plain": [
       "5159"
      ]
     },
     "execution_count": 8,
     "metadata": {},
     "output_type": "execute_result"
    }
   ],
   "source": [
    "len(X_train)"
   ]
  },
  {
   "cell_type": "code",
   "execution_count": 9,
   "id": "71aab384",
   "metadata": {},
   "outputs": [
    {
     "name": "stderr",
     "output_type": "stream",
     "text": [
      "C:\\ProgramData\\Anaconda3\\lib\\site-packages\\sklearn\\linear_model\\_logistic.py:814: ConvergenceWarning: lbfgs failed to converge (status=1):\n",
      "STOP: TOTAL NO. of ITERATIONS REACHED LIMIT.\n",
      "\n",
      "Increase the number of iterations (max_iter) or scale the data as shown in:\n",
      "    https://scikit-learn.org/stable/modules/preprocessing.html\n",
      "Please also refer to the documentation for alternative solver options:\n",
      "    https://scikit-learn.org/stable/modules/linear_model.html#logistic-regression\n",
      "  n_iter_i = _check_optimize_result(\n"
     ]
    },
    {
     "data": {
      "text/plain": [
       "LogisticRegression()"
      ]
     },
     "execution_count": 9,
     "metadata": {},
     "output_type": "execute_result"
    }
   ],
   "source": [
    "model = LR()\n",
    "\n",
    "model.fit(X_train, Y_train)"
   ]
  },
  {
   "cell_type": "code",
   "execution_count": 10,
   "id": "f9010ff7",
   "metadata": {},
   "outputs": [
    {
     "name": "stdout",
     "output_type": "stream",
     "text": [
      "[[745 5.6 0.12 0.33 2.9 0.044 21.0 73.0 0.98896 3.17 0.32 12.9 8]\n",
      " [598 8.3 0.6 0.25 2.2 0.118 9.0 38.0 0.99616 3.15 0.53 9.8 5]\n",
      " [5482 7.5 0.29 0.24 9.9 0.058 25.0 115.0 0.99567 3.15 0.46 10.9 5]\n",
      " [3629 7.9 0.21 0.39 2.0 0.057 21.0 138.0 0.99176 3.05 0.52 10.9 5]\n",
      " [3682 6.2 0.38 0.18 7.4 0.095 28.0 195.0 0.99773 3.53 0.71 9.2 4]\n",
      " [4042 6.2 0.24 0.35 1.2 0.038 22.0 167.0 0.9912 3.1 0.48 10.6 6]\n",
      " [5464 5.2 0.335 0.2 1.7 0.033 17.0 74.0 0.99002 3.34 0.48 12.3 6]\n",
      " [6190 6.0 0.615 0.04 0.8 0.032 8.0 50.0 0.99036 3.14 0.4 11.0 4]\n",
      " [972 9.4 0.685 0.11 2.7 0.077 6.0 31.0 0.9984 3.19 0.7 10.1 6]\n",
      " [4272 9.5 0.39 0.41 8.9 0.069 18.0 39.0 0.99859 3.29 0.81 10.9 7]\n",
      " [1902 6.5 0.26 0.34 1.4 0.04 25.0 184.0 0.99216 3.29 0.46 10.7 5]\n",
      " [1918 6.5 0.13 0.37 1.0 0.036 48.0 114.0 0.9911 3.41 0.51 11.5 8]] ['White Wine' 'Red Wine' 'White Wine' 'White Wine' 'White Wine'\n",
      " 'White Wine' 'White Wine' 'White Wine' 'Red Wine' 'Red Wine' 'White Wine'\n",
      " 'White Wine']\n"
     ]
    }
   ],
   "source": [
    "x1 = X_test[:12]\n",
    "y1 = Y_test[:12]\n",
    "print(x1,y1)"
   ]
  },
  {
   "cell_type": "code",
   "execution_count": 11,
   "id": "993fd920",
   "metadata": {},
   "outputs": [
    {
     "data": {
      "text/plain": [
       "array(['White Wine', 'Red Wine', 'White Wine', 'White Wine', 'White Wine',\n",
       "       'White Wine', 'White Wine', 'White Wine', 'Red Wine', 'Red Wine',\n",
       "       'White Wine', 'White Wine'], dtype=object)"
      ]
     },
     "execution_count": 11,
     "metadata": {},
     "output_type": "execute_result"
    }
   ],
   "source": [
    "model.predict(x1)"
   ]
  },
  {
   "cell_type": "code",
   "execution_count": 12,
   "id": "057e20c6",
   "metadata": {},
   "outputs": [],
   "source": [
    "prediction = model.predict(X_test)\n",
    "\n",
    "accuracyScore = metrics.accuracy_score(prediction, Y_test)"
   ]
  },
  {
   "cell_type": "code",
   "execution_count": 13,
   "id": "fedeb819",
   "metadata": {},
   "outputs": [
    {
     "data": {
      "text/plain": [
       "0.9689922480620154"
      ]
     },
     "execution_count": 13,
     "metadata": {},
     "output_type": "execute_result"
    }
   ],
   "source": [
    "accuracyScore"
   ]
  },
  {
   "cell_type": "code",
   "execution_count": 14,
   "id": "038a706f",
   "metadata": {},
   "outputs": [
    {
     "data": {
      "text/plain": [
       "0.951937984496124"
      ]
     },
     "execution_count": 14,
     "metadata": {},
     "output_type": "execute_result"
    }
   ],
   "source": [
    "model2 = GaussianNB()\n",
    "model2.fit(X_train, Y_train) # Model in learning mode\n",
    "\n",
    "preds = model2.predict(X_test)# Testing model performance on our test data\n",
    "\n",
    "accuracyScore = metrics.accuracy_score(preds, Y_test)\n",
    "\n",
    "accuracyScore"
   ]
  },
  {
   "cell_type": "code",
   "execution_count": 15,
   "id": "4b42f84b",
   "metadata": {},
   "outputs": [
    {
     "data": {
      "text/plain": [
       "array(['White Wine', 'Red Wine'], dtype=object)"
      ]
     },
     "execution_count": 15,
     "metadata": {},
     "output_type": "execute_result"
    }
   ],
   "source": [
    "df.Type.unique()"
   ]
  },
  {
   "cell_type": "code",
   "execution_count": 16,
   "id": "da3583ae",
   "metadata": {},
   "outputs": [
    {
     "data": {
      "text/plain": [
       "1290"
      ]
     },
     "execution_count": 16,
     "metadata": {},
     "output_type": "execute_result"
    }
   ],
   "source": [
    "len(X_test)"
   ]
  },
  {
   "cell_type": "code",
   "execution_count": 17,
   "id": "5047e849",
   "metadata": {},
   "outputs": [
    {
     "data": {
      "text/plain": [
       "5159"
      ]
     },
     "execution_count": 17,
     "metadata": {},
     "output_type": "execute_result"
    }
   ],
   "source": [
    "len(X_train)"
   ]
  },
  {
   "cell_type": "code",
   "execution_count": 18,
   "id": "3ef4c319",
   "metadata": {},
   "outputs": [
    {
     "data": {
      "text/plain": [
       "1290"
      ]
     },
     "execution_count": 18,
     "metadata": {},
     "output_type": "execute_result"
    }
   ],
   "source": [
    "len(Y_test)"
   ]
  },
  {
   "cell_type": "code",
   "execution_count": 21,
   "id": "6c6b4d2d",
   "metadata": {},
   "outputs": [
    {
     "data": {
      "text/plain": [
       "0       White Wine\n",
       "1       White Wine\n",
       "2       White Wine\n",
       "3       White Wine\n",
       "4       White Wine\n",
       "           ...    \n",
       "6444    White Wine\n",
       "6445    White Wine\n",
       "6446    White Wine\n",
       "6447      Red Wine\n",
       "6448    White Wine\n",
       "Name: Type, Length: 6449, dtype: object"
      ]
     },
     "execution_count": 21,
     "metadata": {},
     "output_type": "execute_result"
    }
   ],
   "source": [
    "df.Type"
   ]
  },
  {
   "cell_type": "code",
   "execution_count": 27,
   "id": "da6a2c90",
   "metadata": {},
   "outputs": [
    {
     "data": {
      "text/plain": [
       "<AxesSubplot:xlabel='Type', ylabel='count'>"
      ]
     },
     "execution_count": 27,
     "metadata": {},
     "output_type": "execute_result"
    },
    {
     "data": {
      "image/png": "[encoded data removed]",
      "text/plain": [
       "<Figure size 432x288 with 1 Axes>"
      ]
     },
     "metadata": {
      "needs_background": "light"
     },
     "output_type": "display_data"
    }
   ],
   "source": [
    "sb.countplot(x =df['Type'])"
   ]
  },
  {
   "cell_type": "code",
   "execution_count": null,
   "id": "bbef3f89",
   "metadata": {},
   "outputs": [],
   "source": []
  },
  {
   "cell_type": "code",
   "execution_count": null,
   "id": "091f86a6",
   "metadata": {},
   "outputs": [],
   "source": []
  },
  {
   "cell_type": "code",
   "execution_count": null,
   "id": "d4475fc4",
   "metadata": {},
   "outputs": [],
   "source": []
  }
 ],
 "metadata": {
  "kernelspec": {
   "display_name": "Python 3 (ipykernel)",
   "language": "python",
   "name": "python3"
  },
  "language_info": {
   "codemirror_mode": {
    "name": "ipython",
    "version": 3
   },
   "file_extension": ".py",
   "mimetype": "text/x-python",
   "name": "python",
   "nbconvert_exporter": "python",
   "pygments_lexer": "ipython3",
   "version": "3.9.12"
  }
 },
 "nbformat": 4,
 "nbformat_minor": 5
}
